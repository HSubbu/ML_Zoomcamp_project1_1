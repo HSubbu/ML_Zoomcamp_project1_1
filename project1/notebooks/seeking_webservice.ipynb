{
 "cells": [
  {
   "cell_type": "code",
   "execution_count": 23,
   "metadata": {},
   "outputs": [],
   "source": [
    "import requests\n"
   ]
  },
  {
   "cell_type": "code",
   "execution_count": 24,
   "metadata": {},
   "outputs": [],
   "source": [
    "candidate = [{\"gender\": \"M\",\n",
    "  \"ssc_p\": 71.0,\n",
    "  \"ssc_b\": 'Central',\n",
    "  \"hsc_p\": 58.66,\n",
    "  \"hsc_b\": 'Central',\n",
    "  \"hsc_s\": 'Science',\n",
    "  \"degree_p\": 58.0,\n",
    "  \"degree_t\": 'Sci&Tech',\n",
    "  \"etest_p\": 56.0,\n",
    "  \"mba_p\": 61.3,\n",
    "  \"specialisation\": 'Mkt&Fin',\n",
    "  \"workex\": 'Yes',\n",
    "  }]"
   ]
  },
  {
   "cell_type": "code",
   "execution_count": 25,
   "metadata": {},
   "outputs": [],
   "source": [
    "url = \"http://172.20.40.84:9696/predict\"\n"
   ]
  },
  {
   "cell_type": "code",
   "execution_count": 26,
   "metadata": {},
   "outputs": [
    {
     "name": "stdout",
     "output_type": "stream",
     "text": [
      "Candidate features have been evaluated and output is {'Placement': True, 'Placement_Probability': 0.90234375}\n"
     ]
    }
   ],
   "source": [
    "print(f'Candidate features have been evaluated and output is {requests.post(url=url,json=candidate).json()}')"
   ]
  },
  {
   "cell_type": "code",
   "execution_count": null,
   "metadata": {},
   "outputs": [],
   "source": []
  }
 ],
 "metadata": {
  "kernelspec": {
   "display_name": "Python 3",
   "language": "python",
   "name": "python3"
  },
  "language_info": {
   "codemirror_mode": {
    "name": "ipython",
    "version": 3
   },
   "file_extension": ".py",
   "mimetype": "text/x-python",
   "name": "python",
   "nbconvert_exporter": "python",
   "pygments_lexer": "ipython3",
   "version": "3.8.3"
  }
 },
 "nbformat": 4,
 "nbformat_minor": 4
}
